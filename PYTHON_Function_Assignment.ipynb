{
  "nbformat": 4,
  "nbformat_minor": 0,
  "metadata": {
    "colab": {
      "provenance": []
    },
    "kernelspec": {
      "name": "python3",
      "display_name": "Python 3"
    },
    "language_info": {
      "name": "python"
    }
  },
  "cells": [
    {
      "cell_type": "markdown",
      "source": [
        "**SUBMITTED BY AKANKSHA BHATT**\n",
        "\n",
        "> FUNCTIONS ASSIGNMENT\n",
        "\n"
      ],
      "metadata": {
        "id": "C_lm-THjR9BZ"
      }
    },
    {
      "cell_type": "markdown",
      "source": [
        "***THEORY QUESTIONS***"
      ],
      "metadata": {
        "id": "aQn_bVT9MRPv"
      }
    },
    {
      "cell_type": "markdown",
      "source": [
        "**1. What is the difference between a function and a method in Python?**\n",
        "\n",
        "Function: A function is a block of reusable code defined using the def keyword and is independent of objects."
      ],
      "metadata": {
        "id": "jz4cDIY5J4FZ"
      }
    },
    {
      "cell_type": "code",
      "source": [
        "#Example:\n",
        "def greet(name):\n",
        "    return f\"Hello, {name}\"\n",
        "print(greet(\"Alice\"))"
      ],
      "metadata": {
        "colab": {
          "base_uri": "https://localhost:8080/"
        },
        "id": "0C92MLEmKLtI",
        "outputId": "5f8fb0cd-90c2-4b62-b8f1-6524dd5d5d9e"
      },
      "execution_count": 2,
      "outputs": [
        {
          "output_type": "stream",
          "name": "stdout",
          "text": [
            "Hello, Alice\n"
          ]
        }
      ]
    },
    {
      "cell_type": "markdown",
      "source": [
        "Method: A method is similar to a function but is associated with an object. It is called on an object and can access the object's data (attributes)."
      ],
      "metadata": {
        "id": "Bjkrrx5FKctJ"
      }
    },
    {
      "cell_type": "code",
      "source": [
        "class Person:\n",
        "    def __init__(self, name):\n",
        "        self.name = name\n",
        "    def greet(self):\n",
        "        return f\"Hello, {self.name}\"\n",
        "p = Person(\"Alice\")\n",
        "print(p.greet())"
      ],
      "metadata": {
        "colab": {
          "base_uri": "https://localhost:8080/"
        },
        "id": "GaPDt3BTKNEk",
        "outputId": "da89a0a9-9eb9-4390-8e6f-ca2659ae0173"
      },
      "execution_count": 3,
      "outputs": [
        {
          "output_type": "stream",
          "name": "stdout",
          "text": [
            "Hello, Alice\n"
          ]
        }
      ]
    },
    {
      "cell_type": "markdown",
      "source": [
        "**2. Explain the concept of function arguments and parameters in Python.**\n",
        "\n",
        "Parameters: Variables defined in the function declaration that accept input values when the function is called."
      ],
      "metadata": {
        "id": "cgM4W-9zKP4S"
      }
    },
    {
      "cell_type": "code",
      "source": [
        "def add(a, b):  # `a` and `b` are parameters\n",
        "    return a + b"
      ],
      "metadata": {
        "id": "3eBrucJZK2G-"
      },
      "execution_count": 6,
      "outputs": []
    },
    {
      "cell_type": "markdown",
      "source": [
        "Arguments: Actual values passed to the function when it is called."
      ],
      "metadata": {
        "id": "5GYASbetK6Wy"
      }
    },
    {
      "cell_type": "code",
      "source": [
        "print(add(5, 10))"
      ],
      "metadata": {
        "colab": {
          "base_uri": "https://localhost:8080/"
        },
        "id": "ieafcsBjK5i6",
        "outputId": "59cdb487-bb92-459d-c92c-c386a0a3881e"
      },
      "execution_count": 5,
      "outputs": [
        {
          "output_type": "stream",
          "name": "stdout",
          "text": [
            "15\n"
          ]
        }
      ]
    },
    {
      "cell_type": "markdown",
      "source": [
        "**3. What are the different ways to define and call a function in Python?**\n",
        "\n",
        "Defining a function:\n",
        "\n",
        "Regular function:"
      ],
      "metadata": {
        "id": "1SBO4szJLEzS"
      }
    },
    {
      "cell_type": "code",
      "source": [
        "def greet(name):\n",
        "    return f\"Hello, {name}\""
      ],
      "metadata": {
        "id": "xKRGPhXcLSvt"
      },
      "execution_count": 9,
      "outputs": []
    },
    {
      "cell_type": "markdown",
      "source": [
        "Lambda function (Anonymous function):"
      ],
      "metadata": {
        "id": "sZouUWQyLZ7n"
      }
    },
    {
      "cell_type": "code",
      "source": [
        "greet = lambda name: f\"Hello, {name}\""
      ],
      "metadata": {
        "id": "5jSdpUXrLXtY"
      },
      "execution_count": 10,
      "outputs": []
    },
    {
      "cell_type": "markdown",
      "source": [
        "Calling a function:"
      ],
      "metadata": {
        "id": "H5V7B-RULZX8"
      }
    },
    {
      "cell_type": "code",
      "source": [
        "#Use the function name followed by parentheses and arguments:\n",
        "print(greet(\"Alice\"))"
      ],
      "metadata": {
        "colab": {
          "base_uri": "https://localhost:8080/"
        },
        "id": "lCdgU8rQLZC4",
        "outputId": "7e7745f7-7bb5-4354-b9cd-a79fbf6b2729"
      },
      "execution_count": 11,
      "outputs": [
        {
          "output_type": "stream",
          "name": "stdout",
          "text": [
            "Hello, Alice\n"
          ]
        }
      ]
    },
    {
      "cell_type": "markdown",
      "source": [
        "**4. What is the purpose of the return statement in a Python function?**\n",
        "\n",
        "The return statement is used to send the result of a function back to the caller. It terminates the function and optionally returns a value."
      ],
      "metadata": {
        "id": "H_AeDkLFL9r7"
      }
    },
    {
      "cell_type": "code",
      "source": [
        "def square(num):\n",
        "    return num * num\n",
        "print(square(4))"
      ],
      "metadata": {
        "colab": {
          "base_uri": "https://localhost:8080/"
        },
        "id": "SIaB2Xv5LuOm",
        "outputId": "d4b3701a-48d9-4ac0-8004-5d7fbf989a2c"
      },
      "execution_count": 12,
      "outputs": [
        {
          "output_type": "stream",
          "name": "stdout",
          "text": [
            "16\n"
          ]
        }
      ]
    },
    {
      "cell_type": "markdown",
      "source": [
        "**5. What are iterators in Python and how do they differ from iterables?**\n",
        "\n",
        "Iterables: Objects that can be looped over (e.g., lists, tuples, strings) and contain the __iter__() method."
      ],
      "metadata": {
        "id": "V4FCny15MJix"
      }
    },
    {
      "cell_type": "code",
      "source": [
        "nums = [1, 2, 3]\n",
        "for n in nums:  # nums is an iterable\n",
        "    print(n)"
      ],
      "metadata": {
        "colab": {
          "base_uri": "https://localhost:8080/"
        },
        "id": "JCF-Exm0MIXH",
        "outputId": "a4db2386-0d7d-4989-fc05-dfe28e6bf806"
      },
      "execution_count": 13,
      "outputs": [
        {
          "output_type": "stream",
          "name": "stdout",
          "text": [
            "1\n",
            "2\n",
            "3\n"
          ]
        }
      ]
    },
    {
      "cell_type": "markdown",
      "source": [
        "Iterators: Objects that represent a stream of data and implement both __iter__() and __next__() methods."
      ],
      "metadata": {
        "id": "ujtLLUqUMNq0"
      }
    },
    {
      "cell_type": "code",
      "source": [
        "nums = iter([1, 2, 3])  # nums is now an iterator\n",
        "print(next(nums))\n",
        "print(next(nums))"
      ],
      "metadata": {
        "colab": {
          "base_uri": "https://localhost:8080/"
        },
        "id": "Q9bshu1mMN4X",
        "outputId": "819457cf-b32b-48b8-dd50-53afee38cb6a"
      },
      "execution_count": 14,
      "outputs": [
        {
          "output_type": "stream",
          "name": "stdout",
          "text": [
            "1\n",
            "2\n"
          ]
        }
      ]
    },
    {
      "cell_type": "markdown",
      "source": [
        "**6. Explain the concept of generators in Python and how they are defined.**\n",
        "\n",
        "Generators are a way to create iterators in Python using the yield keyword. They are more memory-efficient compared to lists because they generate values lazily (on demand)."
      ],
      "metadata": {
        "id": "x9wsTbtLMOCz"
      }
    },
    {
      "cell_type": "code",
      "source": [
        "def generate_numbers():\n",
        "    for i in range(3):\n",
        "        yield i\n",
        "gen = generate_numbers()\n",
        "print(next(gen))\n",
        "print(next(gen))"
      ],
      "metadata": {
        "colab": {
          "base_uri": "https://localhost:8080/"
        },
        "id": "M6Js5p-3MOMI",
        "outputId": "94ebe737-af50-4d0f-979c-04daec5fccc4"
      },
      "execution_count": 15,
      "outputs": [
        {
          "output_type": "stream",
          "name": "stdout",
          "text": [
            "0\n",
            "1\n"
          ]
        }
      ]
    },
    {
      "cell_type": "markdown",
      "source": [
        "**7. What are the advantages of using generators over regular functions?**\n",
        "\n",
        "Memory efficiency: They generate items on-the-fly and do not store the entire data in memory.\n",
        "\n",
        "Infinite sequences: Can model infinite sequences without consuming memory.\n",
        "\n",
        "Lazy evaluation: They compute values only when needed."
      ],
      "metadata": {
        "id": "jSUPC90NMOWT"
      }
    },
    {
      "cell_type": "markdown",
      "source": [
        "**8. What is a lambda function in Python and when is it typically used?**\n",
        "\n",
        "A lambda function is a short, anonymous function defined using the lambda keyword. It is typically used for simple operations where defining a full function would be unnecessary."
      ],
      "metadata": {
        "id": "q441HvxmNHM2"
      }
    },
    {
      "cell_type": "code",
      "source": [
        "square = lambda x: x * x\n",
        "print(square(5))\n",
        "\n",
        "\n",
        "#Usage: Inline operations, passing as an argument to map(), filter(), etc."
      ],
      "metadata": {
        "colab": {
          "base_uri": "https://localhost:8080/"
        },
        "id": "FypmvSuEMOe4",
        "outputId": "915d1cd8-1d81-463d-e3bf-cf30e1fa905a"
      },
      "execution_count": 17,
      "outputs": [
        {
          "output_type": "stream",
          "name": "stdout",
          "text": [
            "25\n"
          ]
        }
      ]
    },
    {
      "cell_type": "markdown",
      "source": [
        "**9. Explain the purpose and usage of the map() function in Python.**\n",
        "\n",
        "The map() function applies a function to every item of an iterable and returns an iterator."
      ],
      "metadata": {
        "id": "YRfJkMbJMOoB"
      }
    },
    {
      "cell_type": "code",
      "source": [
        "nums = [1, 2, 3]\n",
        "squared = map(lambda x: x * x, nums)\n",
        "print(list(squared))"
      ],
      "metadata": {
        "colab": {
          "base_uri": "https://localhost:8080/"
        },
        "id": "lSbD---IMOw1",
        "outputId": "d990daa5-d7ca-4327-9182-c9b60e7f1102"
      },
      "execution_count": 18,
      "outputs": [
        {
          "output_type": "stream",
          "name": "stdout",
          "text": [
            "[1, 4, 9]\n"
          ]
        }
      ]
    },
    {
      "cell_type": "markdown",
      "source": [
        "**10. What is the difference between map(), reduce(), and filter() functions in Python?**\n",
        "\n",
        "map(): Transforms every element of an iterable based on a function."
      ],
      "metadata": {
        "id": "ssvX4mvVMO4Z"
      }
    },
    {
      "cell_type": "code",
      "source": [
        "nums = [1, 2, 3]\n",
        "print(list(map(lambda x: x * 2, nums)))"
      ],
      "metadata": {
        "colab": {
          "base_uri": "https://localhost:8080/"
        },
        "id": "PzirjI3OMPBB",
        "outputId": "6a470ce0-a99d-4b49-a892-288627d304d0"
      },
      "execution_count": 19,
      "outputs": [
        {
          "output_type": "stream",
          "name": "stdout",
          "text": [
            "[2, 4, 6]\n"
          ]
        }
      ]
    },
    {
      "cell_type": "markdown",
      "source": [
        "reduce(): Reduces the iterable to a single cumulative value (from functools module)."
      ],
      "metadata": {
        "id": "YKidRUpqMPIC"
      }
    },
    {
      "cell_type": "code",
      "source": [
        "from functools import reduce\n",
        "nums = [1, 2, 3]\n",
        "print(reduce(lambda x, y: x + y, nums))"
      ],
      "metadata": {
        "colab": {
          "base_uri": "https://localhost:8080/"
        },
        "id": "SQk-HVQtMPPV",
        "outputId": "fe95ebdc-c12b-469d-e78b-d2324bdafb0b"
      },
      "execution_count": 20,
      "outputs": [
        {
          "output_type": "stream",
          "name": "stdout",
          "text": [
            "6\n"
          ]
        }
      ]
    },
    {
      "cell_type": "markdown",
      "source": [
        "filter(): Filters elements of an iterable based on a condition."
      ],
      "metadata": {
        "id": "ylGGPITsMPW5"
      }
    },
    {
      "cell_type": "code",
      "source": [
        "nums = [1, 2, 3]\n",
        "print(list(filter(lambda x: x > 1, nums)))"
      ],
      "metadata": {
        "colab": {
          "base_uri": "https://localhost:8080/"
        },
        "id": "tu6P0nUqNxF6",
        "outputId": "dfaa2b9c-c0bb-45ee-d338-e56eea25665a"
      },
      "execution_count": 21,
      "outputs": [
        {
          "output_type": "stream",
          "name": "stdout",
          "text": [
            "[2, 3]\n"
          ]
        }
      ]
    },
    {
      "cell_type": "markdown",
      "source": [
        "**11 .write the internal mechanism for sum operation using reduce() function on this list: [47, 11, 42, 13].**\n",
        "\n",
        "The reduce() function works as follows for summing [47, 11, 42, 13]:\n",
        "\n",
        "1. Initially, 47 and 11 are passed to the lambda function:\n",
        "\n",
        "47+11=58\n",
        "\n",
        "2. The result 58 and 42 are passed next:\n",
        "\n",
        "58+42=100\n",
        "\n",
        "3. Finally, 100 and 13 are passed:\n",
        "\n",
        "100+13=113\n"
      ],
      "metadata": {
        "id": "UzCP8QE2NxTM"
      }
    },
    {
      "cell_type": "code",
      "source": [
        "#code example\n",
        "\n",
        "from functools import reduce\n",
        "nums = [47, 11, 42, 13]\n",
        "result = reduce(lambda x, y: x + y, nums)\n",
        "print(result)"
      ],
      "metadata": {
        "colab": {
          "base_uri": "https://localhost:8080/"
        },
        "id": "fnvHHRWKNxgS",
        "outputId": "c0809552-43fd-4acd-deed-947eb61edfe8"
      },
      "execution_count": 22,
      "outputs": [
        {
          "output_type": "stream",
          "name": "stdout",
          "text": [
            "113\n"
          ]
        }
      ]
    },
    {
      "cell_type": "markdown",
      "source": [
        "**PRACTICAL QUESTIONS**"
      ],
      "metadata": {
        "id": "ZQ-fdWuLNxrr"
      }
    },
    {
      "cell_type": "markdown",
      "source": [
        "**1. Write a Python function that takes a list of numbers as input and returns the sum of all even numbers in the list.**"
      ],
      "metadata": {
        "id": "7UCFKNojPki8"
      }
    },
    {
      "cell_type": "code",
      "source": [
        "def sum_of_evens(numbers):\n",
        "    return sum(num for num in numbers if num % 2 == 0)\n",
        "\n",
        "# Example usage\n",
        "nums = [1, 2, 3, 4, 5, 6]\n",
        "print(sum_of_evens(nums))"
      ],
      "metadata": {
        "colab": {
          "base_uri": "https://localhost:8080/"
        },
        "id": "LTZBp5OUNxzu",
        "outputId": "f51f1868-e042-4143-baec-d159107e7822"
      },
      "execution_count": 23,
      "outputs": [
        {
          "output_type": "stream",
          "name": "stdout",
          "text": [
            "12\n"
          ]
        }
      ]
    },
    {
      "cell_type": "markdown",
      "source": [
        "**2. Create a Python function that accepts a string and returns the reverse of that string.**"
      ],
      "metadata": {
        "id": "AKPkOZAPNx7z"
      }
    },
    {
      "cell_type": "code",
      "source": [
        "def reverse_string(s):\n",
        "    return s[::-1]\n",
        "\n",
        "# Example usage\n",
        "print(reverse_string(\"hello\"))"
      ],
      "metadata": {
        "colab": {
          "base_uri": "https://localhost:8080/"
        },
        "id": "RnW_9zQQPmVl",
        "outputId": "713a1683-274e-420b-ee56-4fd6998bcb76"
      },
      "execution_count": 24,
      "outputs": [
        {
          "output_type": "stream",
          "name": "stdout",
          "text": [
            "olleh\n"
          ]
        }
      ]
    },
    {
      "cell_type": "markdown",
      "source": [
        "**3. Implement a Python function that takes a list of integers and returns a new list containing the squares of each number.**"
      ],
      "metadata": {
        "id": "erDL4aZ1PmoD"
      }
    },
    {
      "cell_type": "code",
      "source": [
        "def square_numbers(numbers):\n",
        "    return [num ** 2 for num in numbers]\n",
        "\n",
        "# Example usage\n",
        "nums = [1, 2, 3, 4]\n",
        "print(square_numbers(nums))"
      ],
      "metadata": {
        "colab": {
          "base_uri": "https://localhost:8080/"
        },
        "id": "U9-VzzUNPnDJ",
        "outputId": "6e0a310c-5b7f-4b79-fcba-3cd2215678d0"
      },
      "execution_count": 25,
      "outputs": [
        {
          "output_type": "stream",
          "name": "stdout",
          "text": [
            "[1, 4, 9, 16]\n"
          ]
        }
      ]
    },
    {
      "cell_type": "markdown",
      "source": [
        "**4. Write a Python function that checks if a given number is prime or not from 1 to 200.**"
      ],
      "metadata": {
        "id": "-NFR-jsgPnNR"
      }
    },
    {
      "cell_type": "code",
      "source": [
        "def is_prime(n):\n",
        "    if n < 2:\n",
        "        return False\n",
        "    for i in range(2, int(n ** 0.5) + 1):\n",
        "        if n % i == 0:\n",
        "            return False\n",
        "    return True\n",
        "\n",
        "# Example usage: Print all primes from 1 to 200\n",
        "primes = [n for n in range(1, 201) if is_prime(n)]\n",
        "print(primes)"
      ],
      "metadata": {
        "colab": {
          "base_uri": "https://localhost:8080/"
        },
        "id": "Imw-W9J3PnUF",
        "outputId": "9ffeafe7-b9bd-4288-cbc6-3f0be4ba4d6b"
      },
      "execution_count": 26,
      "outputs": [
        {
          "output_type": "stream",
          "name": "stdout",
          "text": [
            "[2, 3, 5, 7, 11, 13, 17, 19, 23, 29, 31, 37, 41, 43, 47, 53, 59, 61, 67, 71, 73, 79, 83, 89, 97, 101, 103, 107, 109, 113, 127, 131, 137, 139, 149, 151, 157, 163, 167, 173, 179, 181, 191, 193, 197, 199]\n"
          ]
        }
      ]
    },
    {
      "cell_type": "markdown",
      "source": [
        "**5. Create an iterator class in Python that generates the Fibonacci sequence up to a specified number of terms.**"
      ],
      "metadata": {
        "id": "9SqyUSTFQUTw"
      }
    },
    {
      "cell_type": "code",
      "source": [
        "class Fibonacci:\n",
        "    def __init__(self, n_terms):\n",
        "        self.n_terms = n_terms\n",
        "        self.a, self.b = 0, 1\n",
        "        self.count = 0\n",
        "\n",
        "    def __iter__(self):\n",
        "        return self\n",
        "\n",
        "    def __next__(self):\n",
        "        if self.count >= self.n_terms:\n",
        "            raise StopIteration\n",
        "        self.count += 1\n",
        "        current = self.a\n",
        "        self.a, self.b = self.b, self.a + self.b\n",
        "        return current\n",
        "\n",
        "# Example usage\n",
        "fib = Fibonacci(10)\n",
        "print(list(fib))"
      ],
      "metadata": {
        "colab": {
          "base_uri": "https://localhost:8080/"
        },
        "id": "gQoluiZZQMuE",
        "outputId": "6c01c5d0-5d9f-4ee3-c6c8-700c94b5ae7c"
      },
      "execution_count": 27,
      "outputs": [
        {
          "output_type": "stream",
          "name": "stdout",
          "text": [
            "[0, 1, 1, 2, 3, 5, 8, 13, 21, 34]\n"
          ]
        }
      ]
    },
    {
      "cell_type": "markdown",
      "source": [
        "**6. Write a generator function in Python that yields the powers of 2 up to a given exponent.**"
      ],
      "metadata": {
        "id": "sz8UX5QXQkS5"
      }
    },
    {
      "cell_type": "code",
      "source": [
        "def powers_of_two(exponent):\n",
        "    for i in range(exponent + 1):\n",
        "        yield 2 ** i\n",
        "\n",
        "# Example usage\n",
        "for power in powers_of_two(5):\n",
        "    print(power)"
      ],
      "metadata": {
        "colab": {
          "base_uri": "https://localhost:8080/"
        },
        "id": "B5ia5r9_QhB-",
        "outputId": "10aac52b-4053-42bc-d4fa-fd9c059780a8"
      },
      "execution_count": 28,
      "outputs": [
        {
          "output_type": "stream",
          "name": "stdout",
          "text": [
            "1\n",
            "2\n",
            "4\n",
            "8\n",
            "16\n",
            "32\n"
          ]
        }
      ]
    },
    {
      "cell_type": "markdown",
      "source": [
        "**7. Implement a generator function that reads a file line by line and yields each line as a string.**"
      ],
      "metadata": {
        "id": "cGbH9n4RQlPn"
      }
    },
    {
      "cell_type": "code",
      "source": [
        "def read_file(file_path):\n",
        "    with open(file_path, 'r') as file:\n",
        "        for line in file:\n",
        "            yield line.strip()\n",
        "\n",
        "# Example usage\n",
        "# Assuming \"example.txt\" exists with some content\n",
        "# for line in read_file(\"example.txt\"):\n",
        "# print(line)"
      ],
      "metadata": {
        "id": "mMAw6RLjQldr"
      },
      "execution_count": 30,
      "outputs": []
    },
    {
      "cell_type": "markdown",
      "source": [
        "**8. Use a lambda function in Python to sort a list of tuples based on the second element of each tuple.**"
      ],
      "metadata": {
        "id": "x-WQHiJPQllM"
      }
    },
    {
      "cell_type": "code",
      "source": [
        "data = [(1, 3), (4, 1), (2, 2)]\n",
        "sorted_data = sorted(data, key=lambda x: x[1])\n",
        "print(sorted_data)"
      ],
      "metadata": {
        "colab": {
          "base_uri": "https://localhost:8080/"
        },
        "id": "KZavINVVQlsO",
        "outputId": "5d77909f-e165-46e2-eda3-3b8915ceb19d"
      },
      "execution_count": 31,
      "outputs": [
        {
          "output_type": "stream",
          "name": "stdout",
          "text": [
            "[(4, 1), (2, 2), (1, 3)]\n"
          ]
        }
      ]
    },
    {
      "cell_type": "markdown",
      "source": [
        "**9. Write a Python program that uses map() to convert a list of temperatures from Celsius to Fahrenheit.**"
      ],
      "metadata": {
        "id": "r1LgIBijQlzC"
      }
    },
    {
      "cell_type": "code",
      "source": [
        "celsius = [0, 20, 30, 40]\n",
        "fahrenheit = list(map(lambda c: (c * 9/5) + 32, celsius))\n",
        "print(fahrenheit)"
      ],
      "metadata": {
        "colab": {
          "base_uri": "https://localhost:8080/"
        },
        "id": "x1yfKawkRGJf",
        "outputId": "35bcf99e-60ef-45ee-aa74-8fa12b5ff364"
      },
      "execution_count": 32,
      "outputs": [
        {
          "output_type": "stream",
          "name": "stdout",
          "text": [
            "[32.0, 68.0, 86.0, 104.0]\n"
          ]
        }
      ]
    },
    {
      "cell_type": "markdown",
      "source": [
        "**10. Create a Python program that uses filter() to remove all the vowels from a given string.**"
      ],
      "metadata": {
        "id": "dXgPSYFKRKTy"
      }
    },
    {
      "cell_type": "code",
      "source": [
        "def remove_vowels(s):\n",
        "    return ''.join(filter(lambda x: x.lower() not in 'aeiou', s))\n",
        "\n",
        "# Example usage\n",
        "print(remove_vowels(\"hello world\"))"
      ],
      "metadata": {
        "colab": {
          "base_uri": "https://localhost:8080/"
        },
        "id": "G7GL7oUlRJfh",
        "outputId": "cf744da1-b69d-4751-fbca-4f8087ed1faf"
      },
      "execution_count": 33,
      "outputs": [
        {
          "output_type": "stream",
          "name": "stdout",
          "text": [
            "hll wrld\n"
          ]
        }
      ]
    },
    {
      "cell_type": "markdown",
      "source": [
        "**11. Write a Python program to return a list of tuples.**\n",
        "\n",
        "The question involves increasing the price if the value of the order is below 100."
      ],
      "metadata": {
        "id": "YLMALX0LRRm-"
      }
    },
    {
      "cell_type": "code",
      "source": [
        "data = [(34587, \"Learning Python, Mark Lutz\", 4, 40.95),\n",
        "    (98762, \"Programming Python, Mark Lutz\", 5, 56.80),\n",
        "    (77226, \"Head First Python, Paul Barry\", 3, 32.95),\n",
        "    (88112, \"Einführung in Python3, Bernd Klein\", 3, 24.99)]\n",
        "\n",
        "def process_orders(data):\n",
        "    return list(map(lambda order: (order[0],\n",
        "                  round(order[2] * order[3] + (10 if order[2] * order[3] < 100 else 0), 2)), data))\n",
        "\n",
        "# Example usage\n",
        "print(process_orders(data))\n"
      ],
      "metadata": {
        "colab": {
          "base_uri": "https://localhost:8080/"
        },
        "id": "9BXs74yMRQlR",
        "outputId": "f9202d7f-75a4-411a-f5f7-2a6f3a2f9b62"
      },
      "execution_count": 34,
      "outputs": [
        {
          "output_type": "stream",
          "name": "stdout",
          "text": [
            "[(34587, 163.8), (98762, 284.0), (77226, 108.85), (88112, 84.97)]\n"
          ]
        }
      ]
    },
    {
      "cell_type": "code",
      "source": [],
      "metadata": {
        "id": "HlNqQQhoRq8K"
      },
      "execution_count": null,
      "outputs": []
    }
  ]
}